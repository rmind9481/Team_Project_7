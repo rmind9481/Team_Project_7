{
 "cells": [
  {
   "cell_type": "markdown",
   "metadata": {},
   "source": [
    "#### 머신러닝 프로젝트\n",
    "- 데이터셋 : used_car_data.csv\n",
    "- 목표 : 다양한 모델로 데이터셋 분석 및 모델 생성.\n",
    "\n"
   ]
  },
  {
   "cell_type": "code",
   "execution_count": 1,
   "metadata": {},
   "outputs": [],
   "source": [
    "## [1-1] 모듈로딩 \n",
    "import pandas as pd\n",
    "import numpy as np\n",
    "import matplotlib.pyplot as plt\n",
    "from _utils import tools as ts, RegressionModule as rm\n",
    "from _utils.RegressionModule import RegressionModule as rm"
   ]
  },
  {
   "cell_type": "code",
   "execution_count": 2,
   "metadata": {},
   "outputs": [],
   "source": [
    "originDF = pd.DataFrame(pd.read_csv('../data/used_cars_data.csv',index_col='S.No.'))"
   ]
  },
  {
   "cell_type": "code",
   "execution_count": 3,
   "metadata": {},
   "outputs": [],
   "source": [
    "carDF = originDF.copy()"
   ]
  },
  {
   "cell_type": "markdown",
   "metadata": {},
   "source": [
    "컬럼설명<hr>\n",
    "S.No.: 차량의 일련 번호 <br>\n",
    "Name: 차량의 이름 (브랜드 이름과 모델 이름 포함)<br>\n",
    "Location: 차량이 판매되거나 구매 가능한 위치 (도시)<br>\n",
    "Year: 차량의 제조 연도<br>\n",
    "Kilometers_driven: 이전 소유자가 차량을 운전한 총 거리 (KM 단위)<br>\n",
    "Fuel_Type: 차량이 사용하는 연료 종류 (가솔린, 디젤, 전기, CNG, LPG)<br>\n",
    "Transmission: 차량에 사용된 변속기 종류 (자동/수동)<br>\n",
    "Owner: 차량의 소유 유형<br>\n",
    "Mileage: 자동차 회사가 제공하는 표준 연비 (kmpl 또는 km/kg 단위)<br>\n",
    "Engine: 차량 엔진의 배기량 (CC 단위)<br>\n",
    "Power: 차량 엔진의 최대 출력 (bhp 단위)<br>\n",
    "Seats: 차량의 좌석 수<br>\n",
    "New_Price: 동일 모델의 새 차량 가격 (인도 루피 Lakhs 단위, 1 Lakh = 100,000 INR)<br>\n",
    "Price: 중고차 가격 (인도 루피 Lakhs 단위, 1 Lakh = 100,000 INR<br>"
   ]
  },
  {
   "cell_type": "code",
   "execution_count": 4,
   "metadata": {},
   "outputs": [
    {
     "name": "stdout",
     "output_type": "stream",
     "text": [
      "<class 'pandas.core.frame.DataFrame'>\n",
      "Index: 7253 entries, 0 to 7252\n",
      "Data columns (total 13 columns):\n",
      " #   Column             Non-Null Count  Dtype  \n",
      "---  ------             --------------  -----  \n",
      " 0   Name               7253 non-null   object \n",
      " 1   Location           7253 non-null   object \n",
      " 2   Year               7253 non-null   int64  \n",
      " 3   Kilometers_Driven  7253 non-null   int64  \n",
      " 4   Fuel_Type          7253 non-null   object \n",
      " 5   Transmission       7253 non-null   object \n",
      " 6   Owner_Type         7253 non-null   object \n",
      " 7   Mileage            7251 non-null   object \n",
      " 8   Engine             7207 non-null   object \n",
      " 9   Power              7207 non-null   object \n",
      " 10  Seats              7200 non-null   float64\n",
      " 11  New_Price          1006 non-null   object \n",
      " 12  Price              6019 non-null   float64\n",
      "dtypes: float64(2), int64(2), object(9)\n",
      "memory usage: 793.3+ KB\n"
     ]
    }
   ],
   "source": [
    "carDF.info()"
   ]
  },
  {
   "cell_type": "code",
   "execution_count": 5,
   "metadata": {},
   "outputs": [
    {
     "data": {
      "text/plain": [
       "(7253, 13)"
      ]
     },
     "execution_count": 5,
     "metadata": {},
     "output_type": "execute_result"
    }
   ],
   "source": [
    "carDF.shape"
   ]
  },
  {
   "cell_type": "code",
   "execution_count": 6,
   "metadata": {},
   "outputs": [
    {
     "name": "stdout",
     "output_type": "stream",
     "text": [
      "Name 2041\n",
      "Location 11\n",
      "Year 23\n",
      "Kilometers_Driven 3660\n",
      "Fuel_Type 5\n",
      "Transmission 2\n",
      "Owner_Type 4\n",
      "Mileage 451\n",
      "Engine 151\n",
      "Power 387\n",
      "Seats 10\n",
      "New_Price 626\n",
      "Price 1374\n"
     ]
    }
   ],
   "source": [
    "## 각 컬럼별 고유값 갯수 확인\n",
    "## 범주형, 연속형 데이터 확인\n",
    "for i in carDF.columns:\n",
    "    print(i, len(carDF[i].unique()))"
   ]
  },
  {
   "cell_type": "code",
   "execution_count": 7,
   "metadata": {},
   "outputs": [
    {
     "data": {
      "text/plain": [
       "Name                    0\n",
       "Location                0\n",
       "Year                    0\n",
       "Kilometers_Driven       0\n",
       "Fuel_Type               0\n",
       "Transmission            0\n",
       "Owner_Type              0\n",
       "Mileage                 2\n",
       "Engine                 46\n",
       "Power                  46\n",
       "Seats                  53\n",
       "New_Price            6247\n",
       "Price                1234\n",
       "dtype: int64"
      ]
     },
     "execution_count": 7,
     "metadata": {},
     "output_type": "execute_result"
    }
   ],
   "source": [
    "carDF.isna().sum()\n",
    "## 널값 상태 확인\n",
    "## mileeage, Engine, Seats\n",
    "## engine nan == power 도 없음 46 개이므로 폐기\n",
    "## New_Price            6247가 null 폐기\n",
    "## price 1234개는 추후 확인"
   ]
  },
  {
   "cell_type": "code",
   "execution_count": 8,
   "metadata": {},
   "outputs": [],
   "source": [
    "carDF = carDF.drop(columns='New_Price')\n",
    "carDF = carDF.drop(index = carDF[carDF['Engine'].isna()].index)\n",
    "carDF.loc[carDF['Seats'].isna(),'Seats'] = [5,5,5,7,5,5,5]\n",
    "carDF.loc[carDF['Mileage'].isna(), 'Mileage'] = [0,0]"
   ]
  },
  {
   "cell_type": "code",
   "execution_count": 9,
   "metadata": {},
   "outputs": [],
   "source": [
    "## name 컬럼 앞의 회사명은 범주형으로 사용가능."
   ]
  },
  {
   "cell_type": "code",
   "execution_count": 10,
   "metadata": {},
   "outputs": [
    {
     "data": {
      "text/html": [
       "<div>\n",
       "<style scoped>\n",
       "    .dataframe tbody tr th:only-of-type {\n",
       "        vertical-align: middle;\n",
       "    }\n",
       "\n",
       "    .dataframe tbody tr th {\n",
       "        vertical-align: top;\n",
       "    }\n",
       "\n",
       "    .dataframe thead th {\n",
       "        text-align: right;\n",
       "    }\n",
       "</style>\n",
       "<table border=\"1\" class=\"dataframe\">\n",
       "  <thead>\n",
       "    <tr style=\"text-align: right;\">\n",
       "      <th></th>\n",
       "      <th>Name</th>\n",
       "      <th>Location</th>\n",
       "      <th>Year</th>\n",
       "      <th>Kilometers_Driven</th>\n",
       "      <th>Fuel_Type</th>\n",
       "      <th>Transmission</th>\n",
       "      <th>Owner_Type</th>\n",
       "      <th>Mileage</th>\n",
       "      <th>Engine</th>\n",
       "      <th>Power</th>\n",
       "      <th>Seats</th>\n",
       "      <th>Price</th>\n",
       "    </tr>\n",
       "    <tr>\n",
       "      <th>S.No.</th>\n",
       "      <th></th>\n",
       "      <th></th>\n",
       "      <th></th>\n",
       "      <th></th>\n",
       "      <th></th>\n",
       "      <th></th>\n",
       "      <th></th>\n",
       "      <th></th>\n",
       "      <th></th>\n",
       "      <th></th>\n",
       "      <th></th>\n",
       "      <th></th>\n",
       "    </tr>\n",
       "  </thead>\n",
       "  <tbody>\n",
       "    <tr>\n",
       "      <th>0</th>\n",
       "      <td>Maruti Wagon R LXI CNG</td>\n",
       "      <td>Mumbai</td>\n",
       "      <td>2010</td>\n",
       "      <td>72000</td>\n",
       "      <td>CNG</td>\n",
       "      <td>Manual</td>\n",
       "      <td>First</td>\n",
       "      <td>26.6 km/kg</td>\n",
       "      <td>998 CC</td>\n",
       "      <td>58.16 bhp</td>\n",
       "      <td>5.0</td>\n",
       "      <td>1.75</td>\n",
       "    </tr>\n",
       "    <tr>\n",
       "      <th>1</th>\n",
       "      <td>Hyundai Creta 1.6 CRDi SX Option</td>\n",
       "      <td>Pune</td>\n",
       "      <td>2015</td>\n",
       "      <td>41000</td>\n",
       "      <td>Diesel</td>\n",
       "      <td>Manual</td>\n",
       "      <td>First</td>\n",
       "      <td>19.67 kmpl</td>\n",
       "      <td>1582 CC</td>\n",
       "      <td>126.2 bhp</td>\n",
       "      <td>5.0</td>\n",
       "      <td>12.50</td>\n",
       "    </tr>\n",
       "    <tr>\n",
       "      <th>2</th>\n",
       "      <td>Honda Jazz V</td>\n",
       "      <td>Chennai</td>\n",
       "      <td>2011</td>\n",
       "      <td>46000</td>\n",
       "      <td>Petrol</td>\n",
       "      <td>Manual</td>\n",
       "      <td>First</td>\n",
       "      <td>18.2 kmpl</td>\n",
       "      <td>1199 CC</td>\n",
       "      <td>88.7 bhp</td>\n",
       "      <td>5.0</td>\n",
       "      <td>4.50</td>\n",
       "    </tr>\n",
       "    <tr>\n",
       "      <th>3</th>\n",
       "      <td>Maruti Ertiga VDI</td>\n",
       "      <td>Chennai</td>\n",
       "      <td>2012</td>\n",
       "      <td>87000</td>\n",
       "      <td>Diesel</td>\n",
       "      <td>Manual</td>\n",
       "      <td>First</td>\n",
       "      <td>20.77 kmpl</td>\n",
       "      <td>1248 CC</td>\n",
       "      <td>88.76 bhp</td>\n",
       "      <td>7.0</td>\n",
       "      <td>6.00</td>\n",
       "    </tr>\n",
       "    <tr>\n",
       "      <th>4</th>\n",
       "      <td>Audi A4 New 2.0 TDI Multitronic</td>\n",
       "      <td>Coimbatore</td>\n",
       "      <td>2013</td>\n",
       "      <td>40670</td>\n",
       "      <td>Diesel</td>\n",
       "      <td>Automatic</td>\n",
       "      <td>Second</td>\n",
       "      <td>15.2 kmpl</td>\n",
       "      <td>1968 CC</td>\n",
       "      <td>140.8 bhp</td>\n",
       "      <td>5.0</td>\n",
       "      <td>17.74</td>\n",
       "    </tr>\n",
       "  </tbody>\n",
       "</table>\n",
       "</div>"
      ],
      "text/plain": [
       "                                   Name    Location  Year  Kilometers_Driven  \\\n",
       "S.No.                                                                          \n",
       "0                Maruti Wagon R LXI CNG      Mumbai  2010              72000   \n",
       "1      Hyundai Creta 1.6 CRDi SX Option        Pune  2015              41000   \n",
       "2                          Honda Jazz V     Chennai  2011              46000   \n",
       "3                     Maruti Ertiga VDI     Chennai  2012              87000   \n",
       "4       Audi A4 New 2.0 TDI Multitronic  Coimbatore  2013              40670   \n",
       "\n",
       "      Fuel_Type Transmission Owner_Type     Mileage   Engine      Power  \\\n",
       "S.No.                                                                     \n",
       "0           CNG       Manual      First  26.6 km/kg   998 CC  58.16 bhp   \n",
       "1        Diesel       Manual      First  19.67 kmpl  1582 CC  126.2 bhp   \n",
       "2        Petrol       Manual      First   18.2 kmpl  1199 CC   88.7 bhp   \n",
       "3        Diesel       Manual      First  20.77 kmpl  1248 CC  88.76 bhp   \n",
       "4        Diesel    Automatic     Second   15.2 kmpl  1968 CC  140.8 bhp   \n",
       "\n",
       "       Seats  Price  \n",
       "S.No.                \n",
       "0        5.0   1.75  \n",
       "1        5.0  12.50  \n",
       "2        5.0   4.50  \n",
       "3        7.0   6.00  \n",
       "4        5.0  17.74  "
      ]
     },
     "execution_count": 10,
     "metadata": {},
     "output_type": "execute_result"
    }
   ],
   "source": [
    "carDF.head()"
   ]
  },
  {
   "cell_type": "code",
   "execution_count": 11,
   "metadata": {},
   "outputs": [],
   "source": [
    "## 수치지만 object인 컬럼 수정\n",
    "# carDF['Mileage'] = carDF['Mileage'].apply(lambda x: x.split())\n",
    "carDF['Mileage'] = carDF['Mileage'].apply(lambda x: str(x).split()[0] if isinstance(x, str) else x)\n",
    "carDF[\"Engine\"] = carDF[\"Engine\"].apply(lambda x: str(x).split()[0])\n",
    "carDF[\"Power\"] = carDF[\"Power\"].apply(lambda x: str(x).split()[0])\n"
   ]
  },
  {
   "cell_type": "code",
   "execution_count": 12,
   "metadata": {},
   "outputs": [
    {
     "data": {
      "text/plain": [
       "Name                    0\n",
       "Location                0\n",
       "Year                    0\n",
       "Kilometers_Driven       0\n",
       "Fuel_Type               0\n",
       "Transmission            0\n",
       "Owner_Type              0\n",
       "Mileage                 0\n",
       "Engine                  0\n",
       "Power                   0\n",
       "Seats                   0\n",
       "Price                1224\n",
       "dtype: int64"
      ]
     },
     "execution_count": 12,
     "metadata": {},
     "output_type": "execute_result"
    }
   ],
   "source": [
    "carDF.isnull().sum()"
   ]
  },
  {
   "cell_type": "code",
   "execution_count": 13,
   "metadata": {},
   "outputs": [],
   "source": [
    "carDF= carDF.drop(index=carDF[carDF['Power']=='null'].index)"
   ]
  },
  {
   "cell_type": "code",
   "execution_count": 14,
   "metadata": {},
   "outputs": [],
   "source": [
    "#converting object data type to category data type\n",
    "carDF[\"Fuel_Type\"] = carDF[\"Fuel_Type\"].astype(\"category\")\n",
    "carDF[\"Transmission\"] = carDF[\"Transmission\"].astype(\"category\")\n",
    "carDF[\"Owner_Type\"] = carDF[\"Owner_Type\"].astype(\"category\")\n",
    "#converting datatype  \n",
    "carDF[\"Mileage\"] = carDF[\"Mileage\"].astype(float)\n",
    "carDF[\"Power\"] = carDF[\"Power\"].astype(float)\n",
    "carDF[\"Engine\"]=carDF[\"Engine\"].astype(float)"
   ]
  },
  {
   "cell_type": "code",
   "execution_count": 15,
   "metadata": {},
   "outputs": [
    {
     "name": "stdout",
     "output_type": "stream",
     "text": [
      "<class 'pandas.core.frame.DataFrame'>\n",
      "Index: 7078 entries, 0 to 7252\n",
      "Data columns (total 12 columns):\n",
      " #   Column             Non-Null Count  Dtype   \n",
      "---  ------             --------------  -----   \n",
      " 0   Name               7078 non-null   object  \n",
      " 1   Location           7078 non-null   object  \n",
      " 2   Year               7078 non-null   int64   \n",
      " 3   Kilometers_Driven  7078 non-null   int64   \n",
      " 4   Fuel_Type          7078 non-null   category\n",
      " 5   Transmission       7078 non-null   category\n",
      " 6   Owner_Type         7078 non-null   category\n",
      " 7   Mileage            7078 non-null   float64 \n",
      " 8   Engine             7078 non-null   float64 \n",
      " 9   Power              7078 non-null   float64 \n",
      " 10  Seats              7078 non-null   float64 \n",
      " 11  Price              5876 non-null   float64 \n",
      "dtypes: category(3), float64(5), int64(2), object(2)\n",
      "memory usage: 574.2+ KB\n"
     ]
    }
   ],
   "source": [
    "carDF.info()"
   ]
  },
  {
   "cell_type": "code",
   "execution_count": 16,
   "metadata": {},
   "outputs": [
    {
     "data": {
      "text/plain": [
       "array(['Maruti', 'Hyundai', 'Honda', 'Audi', 'Nissan', 'Toyota',\n",
       "       'Volkswagen', 'Tata', 'Land', 'Mitsubishi', 'Renault',\n",
       "       'Mercedes-Benz', 'BMW', 'Mahindra', 'Ford', 'Porsche', 'Datsun',\n",
       "       'Jaguar', 'Volvo', 'Chevrolet', 'Skoda', 'Mini', 'Fiat', 'Jeep',\n",
       "       'Ambassador', 'Isuzu', 'ISUZU', 'Force', 'Bentley', 'Lamborghini',\n",
       "       'OpelCorsa'], dtype=object)"
      ]
     },
     "execution_count": 16,
     "metadata": {},
     "output_type": "execute_result"
    }
   ],
   "source": [
    "## 차량 이름 앞의 브랜드명 추출하여 브랜드로, 모델명 추출하여 모델로\n",
    "carDF['Brand'] = carDF['Name'].str.split(' ').str[0] #Separating Brand name from the Name\n",
    "carDF['Model'] = carDF['Name'].str.split(' ').str[1] + carDF['Name'].str.split(' ').str[2]\n",
    "\n",
    "carDF.Brand.unique()\n",
    "## 'Isuzu', 'ISUZU' 같은걸로 보임."
   ]
  },
  {
   "cell_type": "code",
   "execution_count": 17,
   "metadata": {},
   "outputs": [],
   "source": [
    "carDF['Brand'] = carDF['Brand'].str.replace('ISUZU','Isuzu' )\n",
    "carDF.loc[carDF['Model'].isna(),'Model'] = 'Corsa'"
   ]
  },
  {
   "cell_type": "code",
   "execution_count": 18,
   "metadata": {},
   "outputs": [],
   "source": [
    "carDF[\"Brand\"] = carDF[\"Brand\"].astype(\"category\")\n",
    "carDF[\"Model\"] = carDF[\"Model\"].astype(\"category\")"
   ]
  },
  {
   "cell_type": "code",
   "execution_count": 19,
   "metadata": {},
   "outputs": [],
   "source": [
    "## 제조년도와 현재년도를 이용해 연식 계산\n",
    "\n",
    "carDF['Current_year']=2025\n",
    "carDF['Ageofcar']=carDF['Current_year']-carDF['Year']\n",
    "carDF.drop('Current_year',axis=1,inplace=True)"
   ]
  },
  {
   "cell_type": "code",
   "execution_count": 20,
   "metadata": {},
   "outputs": [
    {
     "data": {
      "text/html": [
       "<div>\n",
       "<style scoped>\n",
       "    .dataframe tbody tr th:only-of-type {\n",
       "        vertical-align: middle;\n",
       "    }\n",
       "\n",
       "    .dataframe tbody tr th {\n",
       "        vertical-align: top;\n",
       "    }\n",
       "\n",
       "    .dataframe thead th {\n",
       "        text-align: right;\n",
       "    }\n",
       "</style>\n",
       "<table border=\"1\" class=\"dataframe\">\n",
       "  <thead>\n",
       "    <tr style=\"text-align: right;\">\n",
       "      <th></th>\n",
       "      <th>Year</th>\n",
       "      <th>Kilometers_Driven</th>\n",
       "      <th>Mileage</th>\n",
       "      <th>Engine</th>\n",
       "      <th>Power</th>\n",
       "      <th>Seats</th>\n",
       "      <th>Price</th>\n",
       "      <th>Ageofcar</th>\n",
       "    </tr>\n",
       "  </thead>\n",
       "  <tbody>\n",
       "    <tr>\n",
       "      <th>count</th>\n",
       "      <td>7078.000000</td>\n",
       "      <td>7.078000e+03</td>\n",
       "      <td>7078.000000</td>\n",
       "      <td>7078.000000</td>\n",
       "      <td>7078.000000</td>\n",
       "      <td>7078.000000</td>\n",
       "      <td>5876.000000</td>\n",
       "      <td>7078.000000</td>\n",
       "    </tr>\n",
       "    <tr>\n",
       "      <th>mean</th>\n",
       "      <td>2013.480503</td>\n",
       "      <td>5.825348e+04</td>\n",
       "      <td>18.268227</td>\n",
       "      <td>1620.717717</td>\n",
       "      <td>112.765214</td>\n",
       "      <td>5.284544</td>\n",
       "      <td>9.602665</td>\n",
       "      <td>11.519497</td>\n",
       "    </tr>\n",
       "    <tr>\n",
       "      <th>std</th>\n",
       "      <td>3.153077</td>\n",
       "      <td>8.521223e+04</td>\n",
       "      <td>4.369135</td>\n",
       "      <td>596.002717</td>\n",
       "      <td>53.493553</td>\n",
       "      <td>0.809451</td>\n",
       "      <td>11.246531</td>\n",
       "      <td>3.153077</td>\n",
       "    </tr>\n",
       "    <tr>\n",
       "      <th>min</th>\n",
       "      <td>1998.000000</td>\n",
       "      <td>1.710000e+02</td>\n",
       "      <td>0.000000</td>\n",
       "      <td>72.000000</td>\n",
       "      <td>34.200000</td>\n",
       "      <td>2.000000</td>\n",
       "      <td>0.440000</td>\n",
       "      <td>6.000000</td>\n",
       "    </tr>\n",
       "    <tr>\n",
       "      <th>25%</th>\n",
       "      <td>2012.000000</td>\n",
       "      <td>3.345875e+04</td>\n",
       "      <td>15.260000</td>\n",
       "      <td>1198.000000</td>\n",
       "      <td>75.000000</td>\n",
       "      <td>5.000000</td>\n",
       "      <td>3.517500</td>\n",
       "      <td>9.000000</td>\n",
       "    </tr>\n",
       "    <tr>\n",
       "      <th>50%</th>\n",
       "      <td>2014.000000</td>\n",
       "      <td>5.300000e+04</td>\n",
       "      <td>18.250000</td>\n",
       "      <td>1495.000000</td>\n",
       "      <td>94.000000</td>\n",
       "      <td>5.000000</td>\n",
       "      <td>5.750000</td>\n",
       "      <td>11.000000</td>\n",
       "    </tr>\n",
       "    <tr>\n",
       "      <th>75%</th>\n",
       "      <td>2016.000000</td>\n",
       "      <td>7.256600e+04</td>\n",
       "      <td>21.100000</td>\n",
       "      <td>1984.000000</td>\n",
       "      <td>138.100000</td>\n",
       "      <td>5.000000</td>\n",
       "      <td>10.012500</td>\n",
       "      <td>13.000000</td>\n",
       "    </tr>\n",
       "    <tr>\n",
       "      <th>max</th>\n",
       "      <td>2019.000000</td>\n",
       "      <td>6.500000e+06</td>\n",
       "      <td>33.540000</td>\n",
       "      <td>5998.000000</td>\n",
       "      <td>616.000000</td>\n",
       "      <td>10.000000</td>\n",
       "      <td>160.000000</td>\n",
       "      <td>27.000000</td>\n",
       "    </tr>\n",
       "  </tbody>\n",
       "</table>\n",
       "</div>"
      ],
      "text/plain": [
       "              Year  Kilometers_Driven      Mileage       Engine        Power  \\\n",
       "count  7078.000000       7.078000e+03  7078.000000  7078.000000  7078.000000   \n",
       "mean   2013.480503       5.825348e+04    18.268227  1620.717717   112.765214   \n",
       "std       3.153077       8.521223e+04     4.369135   596.002717    53.493553   \n",
       "min    1998.000000       1.710000e+02     0.000000    72.000000    34.200000   \n",
       "25%    2012.000000       3.345875e+04    15.260000  1198.000000    75.000000   \n",
       "50%    2014.000000       5.300000e+04    18.250000  1495.000000    94.000000   \n",
       "75%    2016.000000       7.256600e+04    21.100000  1984.000000   138.100000   \n",
       "max    2019.000000       6.500000e+06    33.540000  5998.000000   616.000000   \n",
       "\n",
       "             Seats        Price     Ageofcar  \n",
       "count  7078.000000  5876.000000  7078.000000  \n",
       "mean      5.284544     9.602665    11.519497  \n",
       "std       0.809451    11.246531     3.153077  \n",
       "min       2.000000     0.440000     6.000000  \n",
       "25%       5.000000     3.517500     9.000000  \n",
       "50%       5.000000     5.750000    11.000000  \n",
       "75%       5.000000    10.012500    13.000000  \n",
       "max      10.000000   160.000000    27.000000  "
      ]
     },
     "execution_count": 20,
     "metadata": {},
     "output_type": "execute_result"
    }
   ],
   "source": [
    "carDF.describe()"
   ]
  },
  {
   "cell_type": "markdown",
   "metadata": {},
   "source": [
    "price의 널값 1200개 처리하기.\n",
    "- 5876/7078 = 0.8301780163888104\n",
    "- 약 17%. test size를 0.17로 처리했다고 생각하고. \n",
    "- 예측모델을 만든 후 price 가 null인 것을 예측 모델에 넣어 데이터 만들기"
   ]
  },
  {
   "cell_type": "markdown",
   "metadata": {},
   "source": [
    "- target - Price\n",
    "- feature - 이름을 제외한 모든 컬럼."
   ]
  },
  {
   "cell_type": "code",
   "execution_count": 21,
   "metadata": {},
   "outputs": [],
   "source": [
    "pnullDF = carDF.loc[carDF[carDF['Price'].isna()].index, :]\n",
    "newDF = carDF.loc[carDF[~carDF['Price'].isna()].index, :]"
   ]
  },
  {
   "cell_type": "code",
   "execution_count": 22,
   "metadata": {},
   "outputs": [
    {
     "name": "stdout",
     "output_type": "stream",
     "text": [
      "<class 'pandas.core.frame.DataFrame'>\n",
      "Index: 7078 entries, 0 to 7252\n",
      "Data columns (total 15 columns):\n",
      " #   Column             Non-Null Count  Dtype   \n",
      "---  ------             --------------  -----   \n",
      " 0   Name               7078 non-null   object  \n",
      " 1   Location           7078 non-null   object  \n",
      " 2   Year               7078 non-null   int64   \n",
      " 3   Kilometers_Driven  7078 non-null   int64   \n",
      " 4   Fuel_Type          7078 non-null   category\n",
      " 5   Transmission       7078 non-null   category\n",
      " 6   Owner_Type         7078 non-null   category\n",
      " 7   Mileage            7078 non-null   float64 \n",
      " 8   Engine             7078 non-null   float64 \n",
      " 9   Power              7078 non-null   float64 \n",
      " 10  Seats              7078 non-null   float64 \n",
      " 11  Price              5876 non-null   float64 \n",
      " 12  Brand              7078 non-null   category\n",
      " 13  Model              7078 non-null   category\n",
      " 14  Ageofcar           7078 non-null   int64   \n",
      "dtypes: category(5), float64(5), int64(3), object(2)\n",
      "memory usage: 931.2+ KB\n"
     ]
    }
   ],
   "source": [
    "carDF.info()"
   ]
  },
  {
   "cell_type": "code",
   "execution_count": 23,
   "metadata": {},
   "outputs": [
    {
     "data": {
      "text/html": [
       "<div>\n",
       "<style scoped>\n",
       "    .dataframe tbody tr th:only-of-type {\n",
       "        vertical-align: middle;\n",
       "    }\n",
       "\n",
       "    .dataframe tbody tr th {\n",
       "        vertical-align: top;\n",
       "    }\n",
       "\n",
       "    .dataframe thead th {\n",
       "        text-align: right;\n",
       "    }\n",
       "</style>\n",
       "<table border=\"1\" class=\"dataframe\">\n",
       "  <thead>\n",
       "    <tr style=\"text-align: right;\">\n",
       "      <th></th>\n",
       "      <th>Name</th>\n",
       "      <th>Location</th>\n",
       "      <th>Year</th>\n",
       "      <th>Kilometers_Driven</th>\n",
       "      <th>Fuel_Type</th>\n",
       "      <th>Transmission</th>\n",
       "      <th>Owner_Type</th>\n",
       "      <th>Mileage</th>\n",
       "      <th>Engine</th>\n",
       "      <th>Power</th>\n",
       "      <th>Seats</th>\n",
       "      <th>Price</th>\n",
       "      <th>Brand</th>\n",
       "      <th>Model</th>\n",
       "      <th>Ageofcar</th>\n",
       "    </tr>\n",
       "    <tr>\n",
       "      <th>S.No.</th>\n",
       "      <th></th>\n",
       "      <th></th>\n",
       "      <th></th>\n",
       "      <th></th>\n",
       "      <th></th>\n",
       "      <th></th>\n",
       "      <th></th>\n",
       "      <th></th>\n",
       "      <th></th>\n",
       "      <th></th>\n",
       "      <th></th>\n",
       "      <th></th>\n",
       "      <th></th>\n",
       "      <th></th>\n",
       "      <th></th>\n",
       "    </tr>\n",
       "  </thead>\n",
       "  <tbody>\n",
       "    <tr>\n",
       "      <th>0</th>\n",
       "      <td>Maruti Wagon R LXI CNG</td>\n",
       "      <td>Mumbai</td>\n",
       "      <td>2010</td>\n",
       "      <td>72000</td>\n",
       "      <td>CNG</td>\n",
       "      <td>Manual</td>\n",
       "      <td>First</td>\n",
       "      <td>26.60</td>\n",
       "      <td>998.0</td>\n",
       "      <td>58.16</td>\n",
       "      <td>5.0</td>\n",
       "      <td>1.75</td>\n",
       "      <td>Maruti</td>\n",
       "      <td>WagonR</td>\n",
       "      <td>15</td>\n",
       "    </tr>\n",
       "    <tr>\n",
       "      <th>1</th>\n",
       "      <td>Hyundai Creta 1.6 CRDi SX Option</td>\n",
       "      <td>Pune</td>\n",
       "      <td>2015</td>\n",
       "      <td>41000</td>\n",
       "      <td>Diesel</td>\n",
       "      <td>Manual</td>\n",
       "      <td>First</td>\n",
       "      <td>19.67</td>\n",
       "      <td>1582.0</td>\n",
       "      <td>126.20</td>\n",
       "      <td>5.0</td>\n",
       "      <td>12.50</td>\n",
       "      <td>Hyundai</td>\n",
       "      <td>Creta1.6</td>\n",
       "      <td>10</td>\n",
       "    </tr>\n",
       "    <tr>\n",
       "      <th>2</th>\n",
       "      <td>Honda Jazz V</td>\n",
       "      <td>Chennai</td>\n",
       "      <td>2011</td>\n",
       "      <td>46000</td>\n",
       "      <td>Petrol</td>\n",
       "      <td>Manual</td>\n",
       "      <td>First</td>\n",
       "      <td>18.20</td>\n",
       "      <td>1199.0</td>\n",
       "      <td>88.70</td>\n",
       "      <td>5.0</td>\n",
       "      <td>4.50</td>\n",
       "      <td>Honda</td>\n",
       "      <td>JazzV</td>\n",
       "      <td>14</td>\n",
       "    </tr>\n",
       "    <tr>\n",
       "      <th>3</th>\n",
       "      <td>Maruti Ertiga VDI</td>\n",
       "      <td>Chennai</td>\n",
       "      <td>2012</td>\n",
       "      <td>87000</td>\n",
       "      <td>Diesel</td>\n",
       "      <td>Manual</td>\n",
       "      <td>First</td>\n",
       "      <td>20.77</td>\n",
       "      <td>1248.0</td>\n",
       "      <td>88.76</td>\n",
       "      <td>7.0</td>\n",
       "      <td>6.00</td>\n",
       "      <td>Maruti</td>\n",
       "      <td>ErtigaVDI</td>\n",
       "      <td>13</td>\n",
       "    </tr>\n",
       "    <tr>\n",
       "      <th>4</th>\n",
       "      <td>Audi A4 New 2.0 TDI Multitronic</td>\n",
       "      <td>Coimbatore</td>\n",
       "      <td>2013</td>\n",
       "      <td>40670</td>\n",
       "      <td>Diesel</td>\n",
       "      <td>Automatic</td>\n",
       "      <td>Second</td>\n",
       "      <td>15.20</td>\n",
       "      <td>1968.0</td>\n",
       "      <td>140.80</td>\n",
       "      <td>5.0</td>\n",
       "      <td>17.74</td>\n",
       "      <td>Audi</td>\n",
       "      <td>A4New</td>\n",
       "      <td>12</td>\n",
       "    </tr>\n",
       "  </tbody>\n",
       "</table>\n",
       "</div>"
      ],
      "text/plain": [
       "                                   Name    Location  Year  Kilometers_Driven  \\\n",
       "S.No.                                                                          \n",
       "0                Maruti Wagon R LXI CNG      Mumbai  2010              72000   \n",
       "1      Hyundai Creta 1.6 CRDi SX Option        Pune  2015              41000   \n",
       "2                          Honda Jazz V     Chennai  2011              46000   \n",
       "3                     Maruti Ertiga VDI     Chennai  2012              87000   \n",
       "4       Audi A4 New 2.0 TDI Multitronic  Coimbatore  2013              40670   \n",
       "\n",
       "      Fuel_Type Transmission Owner_Type  Mileage  Engine   Power  Seats  \\\n",
       "S.No.                                                                     \n",
       "0           CNG       Manual      First    26.60   998.0   58.16    5.0   \n",
       "1        Diesel       Manual      First    19.67  1582.0  126.20    5.0   \n",
       "2        Petrol       Manual      First    18.20  1199.0   88.70    5.0   \n",
       "3        Diesel       Manual      First    20.77  1248.0   88.76    7.0   \n",
       "4        Diesel    Automatic     Second    15.20  1968.0  140.80    5.0   \n",
       "\n",
       "       Price    Brand      Model  Ageofcar  \n",
       "S.No.                                       \n",
       "0       1.75   Maruti     WagonR        15  \n",
       "1      12.50  Hyundai   Creta1.6        10  \n",
       "2       4.50    Honda      JazzV        14  \n",
       "3       6.00   Maruti  ErtigaVDI        13  \n",
       "4      17.74     Audi      A4New        12  "
      ]
     },
     "execution_count": 23,
     "metadata": {},
     "output_type": "execute_result"
    }
   ],
   "source": [
    "carDF.head()"
   ]
  },
  {
   "cell_type": "code",
   "execution_count": 24,
   "metadata": {},
   "outputs": [],
   "source": [
    "## 범주형 데이터들 라벨링하여 넘버링하기\n",
    "## 로케이션, 브랜드, 모델은 순서 없음.\n",
    "## 오너타입은 오디널.\n",
    "##연식은 인코딩필요없음\n",
    "from sklearn.preprocessing import OneHotEncoder, OrdinalEncoder\n",
    "\n",
    "ohEn = OneHotEncoder(sparse_output=False)\n",
    "newDF['Location'] = ohEn.fit_transform(newDF[['Location']])\n",
    "newDF['Brand']= ohEn.fit_transform(newDF[['Brand']])\n",
    "newDF['Model'] = ohEn.fit_transform(newDF[['Model']])\n",
    "newDF['Fuel_Type'] = ohEn.fit_transform(newDF[['Fuel_Type']])\n",
    "newDF['Transmission'] = ohEn.fit_transform(newDF[['Transmission']])\n"
   ]
  },
  {
   "cell_type": "code",
   "execution_count": 25,
   "metadata": {},
   "outputs": [],
   "source": [
    "orEn = OrdinalEncoder()\n",
    "newDF['Owner_Type'] = orEn.fit_transform(newDF[['Owner_Type']])"
   ]
  },
  {
   "cell_type": "code",
   "execution_count": 38,
   "metadata": {},
   "outputs": [
    {
     "data": {
      "text/plain": [
       "array([['First'],\n",
       "       ['First'],\n",
       "       ['First'],\n",
       "       ...,\n",
       "       ['Second'],\n",
       "       ['First'],\n",
       "       ['First']], dtype=object)"
      ]
     },
     "execution_count": 38,
     "metadata": {},
     "output_type": "execute_result"
    }
   ],
   "source": [
    "orEn.inverse_transform(newDF[['Owner_Type']])"
   ]
  },
  {
   "cell_type": "code",
   "execution_count": 26,
   "metadata": {},
   "outputs": [
    {
     "data": {
      "text/html": [
       "<div>\n",
       "<style scoped>\n",
       "    .dataframe tbody tr th:only-of-type {\n",
       "        vertical-align: middle;\n",
       "    }\n",
       "\n",
       "    .dataframe tbody tr th {\n",
       "        vertical-align: top;\n",
       "    }\n",
       "\n",
       "    .dataframe thead th {\n",
       "        text-align: right;\n",
       "    }\n",
       "</style>\n",
       "<table border=\"1\" class=\"dataframe\">\n",
       "  <thead>\n",
       "    <tr style=\"text-align: right;\">\n",
       "      <th></th>\n",
       "      <th>Name</th>\n",
       "      <th>Location</th>\n",
       "      <th>Year</th>\n",
       "      <th>Kilometers_Driven</th>\n",
       "      <th>Fuel_Type</th>\n",
       "      <th>Transmission</th>\n",
       "      <th>Owner_Type</th>\n",
       "      <th>Mileage</th>\n",
       "      <th>Engine</th>\n",
       "      <th>Power</th>\n",
       "      <th>Seats</th>\n",
       "      <th>Price</th>\n",
       "      <th>Brand</th>\n",
       "      <th>Model</th>\n",
       "      <th>Ageofcar</th>\n",
       "    </tr>\n",
       "    <tr>\n",
       "      <th>S.No.</th>\n",
       "      <th></th>\n",
       "      <th></th>\n",
       "      <th></th>\n",
       "      <th></th>\n",
       "      <th></th>\n",
       "      <th></th>\n",
       "      <th></th>\n",
       "      <th></th>\n",
       "      <th></th>\n",
       "      <th></th>\n",
       "      <th></th>\n",
       "      <th></th>\n",
       "      <th></th>\n",
       "      <th></th>\n",
       "      <th></th>\n",
       "    </tr>\n",
       "  </thead>\n",
       "  <tbody>\n",
       "    <tr>\n",
       "      <th>0</th>\n",
       "      <td>Maruti Wagon R LXI CNG</td>\n",
       "      <td>0.0</td>\n",
       "      <td>2010</td>\n",
       "      <td>72000</td>\n",
       "      <td>1.0</td>\n",
       "      <td>0.0</td>\n",
       "      <td>0.0</td>\n",
       "      <td>26.60</td>\n",
       "      <td>998.0</td>\n",
       "      <td>58.16</td>\n",
       "      <td>5.0</td>\n",
       "      <td>1.75</td>\n",
       "      <td>0.0</td>\n",
       "      <td>0.0</td>\n",
       "      <td>15</td>\n",
       "    </tr>\n",
       "    <tr>\n",
       "      <th>1</th>\n",
       "      <td>Hyundai Creta 1.6 CRDi SX Option</td>\n",
       "      <td>0.0</td>\n",
       "      <td>2015</td>\n",
       "      <td>41000</td>\n",
       "      <td>0.0</td>\n",
       "      <td>0.0</td>\n",
       "      <td>0.0</td>\n",
       "      <td>19.67</td>\n",
       "      <td>1582.0</td>\n",
       "      <td>126.20</td>\n",
       "      <td>5.0</td>\n",
       "      <td>12.50</td>\n",
       "      <td>0.0</td>\n",
       "      <td>0.0</td>\n",
       "      <td>10</td>\n",
       "    </tr>\n",
       "    <tr>\n",
       "      <th>2</th>\n",
       "      <td>Honda Jazz V</td>\n",
       "      <td>0.0</td>\n",
       "      <td>2011</td>\n",
       "      <td>46000</td>\n",
       "      <td>0.0</td>\n",
       "      <td>0.0</td>\n",
       "      <td>0.0</td>\n",
       "      <td>18.20</td>\n",
       "      <td>1199.0</td>\n",
       "      <td>88.70</td>\n",
       "      <td>5.0</td>\n",
       "      <td>4.50</td>\n",
       "      <td>0.0</td>\n",
       "      <td>0.0</td>\n",
       "      <td>14</td>\n",
       "    </tr>\n",
       "    <tr>\n",
       "      <th>3</th>\n",
       "      <td>Maruti Ertiga VDI</td>\n",
       "      <td>0.0</td>\n",
       "      <td>2012</td>\n",
       "      <td>87000</td>\n",
       "      <td>0.0</td>\n",
       "      <td>0.0</td>\n",
       "      <td>0.0</td>\n",
       "      <td>20.77</td>\n",
       "      <td>1248.0</td>\n",
       "      <td>88.76</td>\n",
       "      <td>7.0</td>\n",
       "      <td>6.00</td>\n",
       "      <td>0.0</td>\n",
       "      <td>0.0</td>\n",
       "      <td>13</td>\n",
       "    </tr>\n",
       "    <tr>\n",
       "      <th>4</th>\n",
       "      <td>Audi A4 New 2.0 TDI Multitronic</td>\n",
       "      <td>0.0</td>\n",
       "      <td>2013</td>\n",
       "      <td>40670</td>\n",
       "      <td>0.0</td>\n",
       "      <td>1.0</td>\n",
       "      <td>2.0</td>\n",
       "      <td>15.20</td>\n",
       "      <td>1968.0</td>\n",
       "      <td>140.80</td>\n",
       "      <td>5.0</td>\n",
       "      <td>17.74</td>\n",
       "      <td>0.0</td>\n",
       "      <td>0.0</td>\n",
       "      <td>12</td>\n",
       "    </tr>\n",
       "  </tbody>\n",
       "</table>\n",
       "</div>"
      ],
      "text/plain": [
       "                                   Name  Location  Year  Kilometers_Driven  \\\n",
       "S.No.                                                                        \n",
       "0                Maruti Wagon R LXI CNG       0.0  2010              72000   \n",
       "1      Hyundai Creta 1.6 CRDi SX Option       0.0  2015              41000   \n",
       "2                          Honda Jazz V       0.0  2011              46000   \n",
       "3                     Maruti Ertiga VDI       0.0  2012              87000   \n",
       "4       Audi A4 New 2.0 TDI Multitronic       0.0  2013              40670   \n",
       "\n",
       "       Fuel_Type  Transmission  Owner_Type  Mileage  Engine   Power  Seats  \\\n",
       "S.No.                                                                        \n",
       "0            1.0           0.0         0.0    26.60   998.0   58.16    5.0   \n",
       "1            0.0           0.0         0.0    19.67  1582.0  126.20    5.0   \n",
       "2            0.0           0.0         0.0    18.20  1199.0   88.70    5.0   \n",
       "3            0.0           0.0         0.0    20.77  1248.0   88.76    7.0   \n",
       "4            0.0           1.0         2.0    15.20  1968.0  140.80    5.0   \n",
       "\n",
       "       Price  Brand  Model  Ageofcar  \n",
       "S.No.                                 \n",
       "0       1.75    0.0    0.0        15  \n",
       "1      12.50    0.0    0.0        10  \n",
       "2       4.50    0.0    0.0        14  \n",
       "3       6.00    0.0    0.0        13  \n",
       "4      17.74    0.0    0.0        12  "
      ]
     },
     "execution_count": 26,
     "metadata": {},
     "output_type": "execute_result"
    }
   ],
   "source": [
    "newDF.head()"
   ]
  },
  {
   "cell_type": "markdown",
   "metadata": {},
   "source": [
    "#### newDF 컬럼별 상관관계 분석"
   ]
  },
  {
   "cell_type": "code",
   "execution_count": 27,
   "metadata": {},
   "outputs": [],
   "source": [
    "targetSR = newDF['Price']\n",
    "featureDF = newDF[['Location', 'Year', 'Kilometers_Driven', 'Fuel_Type',\n",
    "       'Transmission', 'Owner_Type', 'Mileage', 'Engine', 'Power', 'Seats',\n",
    "       'Brand', 'Model', 'Ageofcar']]"
   ]
  },
  {
   "cell_type": "code",
   "execution_count": 28,
   "metadata": {},
   "outputs": [
    {
     "data": {
      "image/png": "[encoded data removed]",
      "text/plain": [
       "<Figure size 1200x600 with 12 Axes>"
      ]
     },
     "metadata": {},
     "output_type": "display_data"
    }
   ],
   "source": [
    "ts.plot_corr(newDF,featureDF.columns,'Price')"
   ]
  },
  {
   "cell_type": "code",
   "execution_count": 33,
   "metadata": {},
   "outputs": [],
   "source": [
    "targetSR = newDF['Price']\n",
    "featureDF = newDF[['Location', 'Year', 'Kilometers_Driven', 'Fuel_Type',\n",
    "       'Transmission', 'Owner_Type', 'Mileage', 'Engine', 'Power', 'Seats',\n",
    "       'Brand', 'Model', 'Ageofcar']]"
   ]
  },
  {
   "cell_type": "code",
   "execution_count": 34,
   "metadata": {},
   "outputs": [],
   "source": [
    "# from sklearn.model_selection import train_test_split\n",
    "\n",
    "# train_X, test_X, train_y, test_y = train_test_split(featureDF, targetSR,\n",
    "#                                                     random_state=42                                                    \n",
    "#                                                     )\n",
    "                                                    \n",
    "                                                    "
   ]
  },
  {
   "cell_type": "code",
   "execution_count": 35,
   "metadata": {},
   "outputs": [],
   "source": [
    "nModel = rm()"
   ]
  },
  {
   "cell_type": "code",
   "execution_count": 36,
   "metadata": {},
   "outputs": [
    {
     "name": "stdout",
     "output_type": "stream",
     "text": [
      "X_train => 2D (4407, 13) / X_test => 2D, (1469, 13)\n",
      "y_train => 1D (4407,), / y_test => 1D, (1469,)\n"
     ]
    },
    {
     "data": {
      "text/plain": [
       "(       Location  Year  Kilometers_Driven  Fuel_Type  Transmission  Owner_Type  \\\n",
       " S.No.                                                                           \n",
       " 544         0.0  2019              13190        0.0           1.0         0.0   \n",
       " 2617        1.0  2012              55002        0.0           0.0         0.0   \n",
       " 1911        1.0  2016              77000        1.0           0.0         0.0   \n",
       " 3236        0.0  2011              70000        0.0           1.0         0.0   \n",
       " 1382        0.0  2009             120000        0.0           0.0         0.0   \n",
       " ...         ...   ...                ...        ...           ...         ...   \n",
       " 3127        0.0  2017              35981        0.0           0.0         0.0   \n",
       " 1770        0.0  2017               8000        0.0           0.0         0.0   \n",
       " 4186        0.0  2017              22874        0.0           0.0         0.0   \n",
       " 2310        0.0  2016              38500        0.0           0.0         2.0   \n",
       " 2993        0.0  2009              90000        0.0           1.0         0.0   \n",
       " \n",
       "        Mileage  Engine   Power  Seats  Brand  Model  Ageofcar  \n",
       " S.No.                                                          \n",
       " 544       0.00  1950.0  181.43    5.0    0.0    0.0         6  \n",
       " 2617     17.50  1298.0   85.80    5.0    0.0    0.0        13  \n",
       " 1911     26.60   998.0   58.16    5.0    0.0    0.0         9  \n",
       " 3236     14.21  2143.0  203.00    5.0    0.0    0.0        14  \n",
       " 1382     18.90   998.0   67.10    5.0    0.0    0.0        16  \n",
       " ...        ...     ...     ...    ...    ...    ...       ...  \n",
       " 3127     24.30  1248.0   88.50    5.0    0.0    0.0         8  \n",
       " 1770     18.60  1197.0   81.83    5.0    0.0    0.0         8  \n",
       " 4186     15.10  1196.0   73.00    5.0    0.0    0.0         8  \n",
       " 2310     28.09  1248.0   88.50    5.0    0.0    0.0         9  \n",
       " 2993     11.00  2993.0  235.00    5.0    0.0    0.0        16  \n",
       " \n",
       " [4407 rows x 13 columns],\n",
       "        Location  Year  Kilometers_Driven  Fuel_Type  Transmission  Owner_Type  \\\n",
       " S.No.                                                                           \n",
       " 4858        0.0  2017              14000        0.0           1.0         0.0   \n",
       " 5019        0.0  2016              31001        0.0           0.0         0.0   \n",
       " 645         0.0  2011              61000        0.0           1.0         0.0   \n",
       " 3827        0.0  2016              50000        0.0           0.0         0.0   \n",
       " 4490        0.0  2010             107000        0.0           0.0         0.0   \n",
       " ...         ...   ...                ...        ...           ...         ...   \n",
       " 5451        0.0  2016              26000        0.0           0.0         0.0   \n",
       " 1445        0.0  2016              12000        0.0           1.0         2.0   \n",
       " 65          0.0  2012              65664        0.0           1.0         0.0   \n",
       " 5981        0.0  2017               6000        0.0           0.0         0.0   \n",
       " 5625        1.0  2017              16235        0.0           0.0         0.0   \n",
       " \n",
       "        Mileage  Engine   Power  Seats  Brand  Model  Ageofcar  \n",
       " S.No.                                                          \n",
       " 4858     18.25  1968.0  187.74    5.0    0.0    0.0         8  \n",
       " 5019     24.30  1248.0   88.50    5.0    0.0    0.0         9  \n",
       " 645      12.30  1796.0  185.00    5.0    0.0    0.0        14  \n",
       " 3827     19.10  1197.0   82.00    5.0    0.0    0.0         9  \n",
       " 4490     16.60  1388.0   68.00    5.0    0.0    0.0        15  \n",
       " ...        ...     ...     ...    ...    ...    ...       ...  \n",
       " 5451     25.40  1186.0   73.97    5.0    0.0    0.0         9  \n",
       " 1445     23.10   998.0   67.04    5.0    0.0    0.0         9  \n",
       " 65       16.55  1968.0  140.00    5.0    0.0    0.0        13  \n",
       " 5981     21.40  1197.0   83.10    5.0    0.0    0.0         8  \n",
       " 5625     24.70  1047.0   69.00    5.0    0.0    0.0         8  \n",
       " \n",
       " [1469 rows x 13 columns],\n",
       " S.No.\n",
       " 544     38.99\n",
       " 2617     4.25\n",
       " 1911     3.30\n",
       " 3236    13.00\n",
       " 1382     1.69\n",
       "         ...  \n",
       " 3127     9.51\n",
       " 1770     6.75\n",
       " 4186     4.44\n",
       " 2310     7.85\n",
       " 2993    17.75\n",
       " Name: Price, Length: 4407, dtype: float64,\n",
       " S.No.\n",
       " 4858    43.00\n",
       " 5019     7.25\n",
       " 645     12.50\n",
       " 3827     2.50\n",
       " 4490     2.60\n",
       "         ...  \n",
       " 5451     5.00\n",
       " 1445     4.25\n",
       " 65      13.50\n",
       " 5981     7.50\n",
       " 5625     5.50\n",
       " Name: Price, Length: 1469, dtype: float64)"
      ]
     },
     "execution_count": 36,
     "metadata": {},
     "output_type": "execute_result"
    }
   ],
   "source": [
    "nModel.train_test_cut(featureDF,targetSR)"
   ]
  },
  {
   "cell_type": "code",
   "execution_count": null,
   "metadata": {},
   "outputs": [],
   "source": []
  }
 ],
 "metadata": {
  "kernelspec": {
   "display_name": "ML_PY39",
   "language": "python",
   "name": "python3"
  },
  "language_info": {
   "codemirror_mode": {
    "name": "ipython",
    "version": 3
   },
   "file_extension": ".py",
   "mimetype": "text/x-python",
   "name": "python",
   "nbconvert_exporter": "python",
   "pygments_lexer": "ipython3",
   "version": "3.9.21"
  }
 },
 "nbformat": 4,
 "nbformat_minor": 2
}
